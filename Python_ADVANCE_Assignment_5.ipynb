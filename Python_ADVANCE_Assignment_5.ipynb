{
 "cells": [
  {
   "cell_type": "markdown",
   "metadata": {},
   "source": [
    "Q1. What is the meaning of multiple inheritance?"
   ]
  },
  {
   "cell_type": "markdown",
   "metadata": {},
   "source": [
    "Multiple inheritance is a feature of some object-oriented computer programming languages in which an object or class can inherit characteristics and features from more than one parent object or parent class. ... This can be addressed in various ways, including using virtual inheritance.\n",
    "Multiple Inheritance is a feature of object oriented concept, where a class can inherit properties of more than one parent class. ... On calling the method, the compiler cannot determine which class method to be called and even on calling which class method gets the priority."
   ]
  },
  {
   "cell_type": "markdown",
   "metadata": {},
   "source": [
    "Q2. What is the concept of delegation?"
   ]
  },
  {
   "cell_type": "markdown",
   "metadata": {},
   "source": [
    "Delegation is the assignment of authority to another person (normally from a manager to a subordinate) to carry out specific activities. It is the process of distributing and entrusting work to another person. Delegation is one of the core concepts of management leadership"
   ]
  },
  {
   "cell_type": "markdown",
   "metadata": {},
   "source": [
    "Q3. What is the concept of composition?"
   ]
  },
  {
   "cell_type": "markdown",
   "metadata": {},
   "source": [
    "Population composition refers to the structure of the population. Population composition helps to know the number of males or female, their age-groups, literacy, their occupation, their income level and health conditions etc."
   ]
  },
  {
   "cell_type": "markdown",
   "metadata": {},
   "source": [
    "Q4. What are bound methods and how do we use them?"
   ]
  },
  {
   "cell_type": "markdown",
   "metadata": {},
   "source": [
    "A bound method is the one which is dependent on the instance of the class as the first argument. It passes the instance as the first argument which is used to access the variables and functions. In Python 3 and newer versions of python, all functions in the class are by default bound methods.\n",
    "\n",
    "Let’s understand this concept with an example:\n",
    "\n",
    "\n",
    "# Python code to demonstrate\n",
    "# use of bound methods\n",
    "  \n",
    "class A:\n",
    "  \n",
    "    def func(self, arg):\n",
    "        self.arg = arg\n",
    "        print(\"Value of arg = \", arg)\n",
    "  \n",
    "  \n",
    "# Creating an instance\n",
    "obj = A()  \n",
    "  \n",
    "# bound method\n",
    "print(obj.func)\n",
    "Output:\n",
    "\n",
    "< bound method A.func of <__main__.A object at 0x7fb81c5a09e8>>\n",
    "Here,\n",
    "\n",
    " obj.func(arg) is translated by python as A.func(obj, arg).\n",
    "The instance obj is automatically passed as the first argument to the function called and hence the first parameter of the function will be used to access the variables/functions of the object.\n",
    "\n",
    "\n",
    "\n",
    "Let’s see another example of the Bound method.\n",
    "\n",
    "\n",
    "# Python code to demonstrate\n",
    "# use of bound methods\n",
    "  \n",
    "  \n",
    "class Car:\n",
    "    # Car class created\n",
    "    gears = 5\n",
    "  \n",
    "    # a class method to change the number of gears \n",
    "    @classmethod\n",
    "    def change_gears(cls, gears):\n",
    "        cls.gears = gears\n",
    "  \n",
    "  \n",
    "# instance of class Car created\n",
    "Car1 = Car()\n",
    "  \n",
    "  \n",
    "print(\"Car1 gears before calling change_gears() = \", Car1.gears)\n",
    "Car1.change_gears(6) \n",
    "print(\"Gears after calling change_gears() = \", Car1.gears)\n",
    "  \n",
    "# bound method\n",
    "print(Car1.change_gears)\n",
    "Output:\n",
    "\n",
    "Car1 gears before calling change_gears() =  5\n",
    "Gears after calling change_gears() =  6\n",
    "<bound method Car.change_gears of <class '__main__.Car'>>\n",
    "The above code is an example of a classmethod. A class method is like a bound method except that the class of the instance is passed as an argument rather than the instance itself. Here in the above example when we call Car1.change_gears(6), the class ‘Car’ is passed as the first argument"
   ]
  },
  {
   "cell_type": "markdown",
   "metadata": {},
   "source": [
    "Q5. What is the purpose of pseudoprivate attributes?"
   ]
  },
  {
   "cell_type": "markdown",
   "metadata": {},
   "source": [
    "One of the main problems that the pseudoprivate attribute feature is meant to alleviate has to do with the way instance attributes are stored. In Python, all instance attributes wind up in the single instance object at the bottom of the class tree"
   ]
  },
  {
   "cell_type": "code",
   "execution_count": null,
   "metadata": {},
   "outputs": [],
   "source": []
  }
 ],
 "metadata": {
  "kernelspec": {
   "display_name": "Python 3",
   "language": "python",
   "name": "python3"
  },
  "language_info": {
   "codemirror_mode": {
    "name": "ipython",
    "version": 3
   },
   "file_extension": ".py",
   "mimetype": "text/x-python",
   "name": "python",
   "nbconvert_exporter": "python",
   "pygments_lexer": "ipython3",
   "version": "3.8.5"
  }
 },
 "nbformat": 4,
 "nbformat_minor": 4
}
