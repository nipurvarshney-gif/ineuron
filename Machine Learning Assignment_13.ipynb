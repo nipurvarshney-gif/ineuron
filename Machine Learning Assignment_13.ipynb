{
 "cells": [
  {
   "cell_type": "markdown",
   "metadata": {},
   "source": [
    "1. What advantages do Excel spreadsheets have over CSV spreadsheets?"
   ]
  },
  {
   "cell_type": "markdown",
   "metadata": {},
   "source": [
    "Excel is more superior when compared with the CSV file format; thus, CSV consumes less amount of file size when the user is importing data; it is a much faster format compared to excel. CSV does not manipulate data and stores it as-is. Excel also allows the user the add-in feature"
   ]
  },
  {
   "cell_type": "markdown",
   "metadata": {},
   "source": [
    "2.What do you pass to csv.reader() and csv.writer() to create reader and writer objects?"
   ]
  },
  {
   "cell_type": "markdown",
   "metadata": {},
   "source": [
    "To write to a CSV file in Python, we can use the csv.writer() function.\n",
    "\n",
    "The csv.writer() function returns a writer object that converts the user's data into a delimited string. This string can later be used to write into CSV files using the writerow() function. "
   ]
  },
  {
   "cell_type": "markdown",
   "metadata": {},
   "source": [
    "CSV (Comma Separated Values) is a simple file format used to store tabular data, such as a spreadsheet or database. A CSV file stores tabular data (numbers and text) in plain text. Each line of the file is a data record. Each record consists of one or more fields, separated by commas. The use of the comma as a field separator is the source of the name for this file format."
   ]
  },
  {
   "cell_type": "markdown",
   "metadata": {},
   "source": [
    "3. What modes do File objects for reader and writer objects need to be opened in?"
   ]
  },
  {
   "cell_type": "markdown",
   "metadata": {},
   "source": [
    "A file object allows us to use, access and manipulate all the user accessible files. One can read and write any such files.\n",
    "When a file operation fails for an I/O-related reason, the exception IOError is raised. This includes situations where the operation is not defined for some reason, like seek() on a tty device or writing a file opened for reading.\n",
    "Files have the following methods:\n",
    "\n",
    "open(): Opens a file in given access mode.\n",
    " open(file_address, access_mode) \n",
    "Examples of accessing a file: A file can be opened with a built-in function called open(). This function takes in the file’s address and the access_mode and returns a file object.\n",
    "There are different types of access_modes:\n",
    "\n",
    "r: Opens a file for reading only\n",
    "r+: Opens a file for both reading and writing\n",
    "w: Opens a file for writing only\n",
    "w+: Open a file for writing and reading.\n",
    "a: Opens a file for appending\n",
    "a+: Opens a file for both appending and reading\n",
    "When you add 'b' to the access modes you can read the file in binary format rather than the default text format. It is used when the file to be accessed is not in text.\n",
    "\n",
    "read([size]): It reads the entire file and returns it contents in the form of a string. Reads at most size bytes from the file (less if the read hits EOF before obtaining size bytes). If the size argument is negative or omitted, read all data until EOF is reached.\n",
    "\n",
    "# Reading a file\n",
    "f = open(__file__, 'r')\n",
    "  \n",
    "#read()\n",
    "text = f.read(10)\n",
    "  \n",
    "print(text)\n",
    "f.close()\n",
    "readline([size]): It reads the first line of the file i.e till a newline character or an EOF in case of a file having a single line and returns a string. If the size argument is present and non-negative, it is a maximum byte count (including the trailing newline) and an incomplete line may be returned. An empty string is returned only when EOF is encountered immediately.\n",
    "\n",
    "# Reading a line in a file\n",
    "f = open(__file__, 'r')\n",
    "  \n",
    "#readline()\n",
    "text = f.readline(20)\n",
    "print(text)\n",
    "f.close()\n",
    "readlines([sizehint]): It reads the entire file line by line and updates each line to a list which is returned.Read until EOF using readline() and return a list containing the lines thus read. If the optional sizehint argument is present, instead of reading up to EOF, whole lines totalling approximately sizehint bytes (possibly after rounding up to an internal buffer size) are read.\n",
    "\n",
    "# Reading a file\n",
    "f = open(__file__, 'r')\n",
    "  \n",
    "#readline()\n",
    "text = f.readlines(25)\n",
    "print(text)\n",
    "f.close()\n",
    "write(string): It writes the contents of string to the file. It has no return value. Due to buffering, the string may not actually show up in the file until the flush() or close() method is called.\n",
    "\n",
    "# Writing a file\n",
    "f = open(__file__, 'w')\n",
    "line = 'Welcome Geeks\\n'\n",
    "  \n",
    "#write()\n",
    "f.write(line)\n",
    "f.close()\n",
    "More Examples in different modes:\n",
    "\n",
    "\n",
    "\n",
    "\n",
    "# Reading and Writing a file\n",
    "f = open(__file__, 'r+')\n",
    "lines = f.read()\n",
    "f.write(lines)\n",
    "f.close()\n",
    "\n",
    "# Writing and Reading a file\n",
    "f = open(__file__, 'w+')\n",
    "lines = f.read()\n",
    "f.write(lines)\n",
    "f.close()\n",
    "\n",
    "# Appending a file\n",
    "f = open(__file__, 'a')\n",
    "lines = 'Welcome Geeks\\n'\n",
    "f.write(lines)\n",
    "f.close()\n",
    "\n",
    "# Appending and reading a file\n",
    "f = open(__file__, 'a+')\n",
    "lines = f.read()\n",
    "f.write(lines)\n",
    "f.close()\n",
    "writelines(sequence): It is a sequence of strings to the file usually a list of strings or any other iterable data type. It has no return value.\n",
    "\n",
    "# Writing a file\n",
    "f = open(__file__, 'a+')\n",
    "lines = f.readlines()\n",
    "  \n",
    "#writelines()\n",
    "f.writelines(lines)\n",
    "f.close()\n",
    "tell(): It returns an integer that tells us the file object’s position from the beginning of the file in the form of bytes\n",
    "\n",
    "# Telling the file object position\n",
    "f = open(__file__, 'r')\n",
    "lines = f.read(10)\n",
    "  \n",
    "#tell()\n",
    "print(f.tell())\n",
    "f.close()\n",
    "seek(offset, from_where): It is used to change the file object’s position. Offset indicates the number of bytes to be moved. from_where indicates from where the bytes are to be moved.\n",
    "\n",
    "# Setting the file object position\n",
    "f = open(__file__, 'r')\n",
    "lines = f.read(10)\n",
    "print(lines)\n",
    "  \n",
    "#seek()\n",
    "print(f.seek(2,2))\n",
    "lines = f.read(10)\n",
    "print(lines)\n",
    "f.close()\n",
    "flush(): Flush the internal buffer, like stdio‘s fflush(). It has no return value. close() automatically flushes the data but if you want to flush the data before closing the file then you can use this method.\n",
    "\n",
    "# Clearing the internal buffer before closing the file\n",
    "f = open(__file__, 'r')\n",
    "lines = f.read(10)\n",
    "  \n",
    "#flush()\n",
    "f.flush()\n",
    "print(f.read())\n",
    "f.close()\n",
    "fileno(): Returns the integer file descriptor that is used by the underlying implementation to request I/O operations from the operating system.\n",
    "\n",
    "# Getting the integer file descriptor\n",
    "f = open(__file__, 'r')\n",
    "  \n",
    "#fileno()\n",
    "print(f.fileno())\n",
    "f.close()\n",
    "isatty(): Returns True if the file is connected to a tty(-like) device and False if not.\n",
    "\n",
    "# Checks if file is connected to a tty(-like) device\n",
    "f = open(__file__, 'r')\n",
    "  \n",
    "#isatty()\n",
    "print(f.isatty())\n",
    "f.close()\n",
    "next(): It is used when a file is used as an iterator. The method is called repeatedly. This method returns the next input line or raises StopIteration at EOF when the file is open for reading( behaviour is undefined when opened for writing).\n",
    "\n",
    "# Iterates over the file\n",
    "f = open(__file__, 'r')\n",
    "  \n",
    "#next()\n",
    "try:\n",
    "    while f.next():\n",
    "        print(f.next())\n",
    "except:\n",
    "    f.close()\n",
    "truncate([size]): Truncate the file’s size. If the optional size argument is present, the file is truncated to (at most) that size. The size defaults to the current position. The current file position is not changed. Note that if a specified size exceeds the file’s current size, the result is platform-dependent: possibilities include that the file may remain unchanged, increase to the specified size as if zero-filled, or increase to the specified size with undefined new content.\n",
    "\n",
    "# Truncates the file\n",
    "f = open(__file__, 'w')\n",
    "  \n",
    "#truncate()\n",
    "f.truncate(10)\n",
    "f.close()\n",
    "close(): Used to close an open file. A closed file cannot be read or written any more.\n",
    "\n",
    "# Opening and closing a file\n",
    "f = open(__file__, 'r')\n",
    "  \n",
    "#close()\n",
    "f.close()\n",
    "Attributes:\n",
    "closed: returns a boolean indicating the current state of the file object. It returns true if the file is closed and false when the file is open.\n",
    "encoding: The encoding that this file uses. When Unicode strings are written to a file, they will be converted to byte strings using this encoding.\n",
    "mode: The I/O mode for the file. If the file was created using the open() built-in function, this will be the value of the mode parameter.\n",
    "name: If the file object was created using open(), the name of the file.\n",
    "newlines: A file object that has been opened in universal newline mode have this attribute which reflects the newline convention used in the file. The value for this attribute are “\\r”, “\\n”, “\\r\\n”, None or a tuple containing all the newline types seen.\n",
    "softspace: It is a boolean that indicates whether a space character needs to be printed before another value when using the print statement."
   ]
  },
  {
   "cell_type": "markdown",
   "metadata": {},
   "source": [
    "4. What method takes a list argument and writes it to a CSV file?"
   ]
  },
  {
   "cell_type": "markdown",
   "metadata": {},
   "source": [
    "The csv. writer writerow method takes an iterable as an argument. Your result set has to be a list (rows) of lists (columns). Write the row parameter to the writer's file object, formatted according to the current dialect"
   ]
  },
  {
   "cell_type": "markdown",
   "metadata": {},
   "source": [
    "5. What do the keyword arguments delimiter and line terminator do?"
   ]
  },
  {
   "cell_type": "code",
   "execution_count": null,
   "metadata": {},
   "outputs": [],
   "source": [
    "Say you want to separate cells with a tab character instead of a comma and you want the rows to be double-spaced. You could enter something like the following into the interactive shell:\n",
    "\n",
    "\n",
    "   >>> import csv\n",
    "   >>> csvFile = open('example.tsv', 'w', newline='')\n",
    "❶ >>> csvWriter = csv.writer(csvFile, delimiter='\\t', lineterminator='\\n\\n')\n",
    "   >>> csvWriter.writerow(['apples', 'oranges', 'grapes'])\n",
    "   24\n",
    "   >>> csvWriter.writerow(['eggs', 'bacon', 'ham'])\n",
    "   17\n",
    "   >>> csvWriter.writerow(['spam', 'spam', 'spam', 'spam', 'spam', 'spam'])\n",
    "   32\n",
    "   >>> csvFile.close()\n",
    "This changes the delimiter and line terminator characters in your file. The delimiter is the character that appears between cells on a row. By default, the delimiter for a CSV file is a comma. The line terminator is the character that comes at the end of a row. By default, the line terminator is a newline. You can change characters to different values by using the delimiter and lineterminator keyword arguments with csv.writer().\n",
    "\n",
    "Passing delimeter='\\t' and lineterminator='\\n\\n' ❶ changes the character between cells to a tab and the character between rows to two newlines. We then call writerow() three times to give us three rows.\n",
    "\n",
    "This produces a file named example.tsv with the following contents:\n",
    "\n",
    "\n",
    "apples  oranges grapes\n",
    "\n",
    "eggs    bacon   ham\n",
    "spam    spam    spam    spam    spam    spam\n",
    "Now that our cells are separated by tabs, we’re using the file extension .tsv, for tab-separated values."
   ]
  },
  {
   "cell_type": "markdown",
   "metadata": {},
   "source": [
    "6. What function takes a string of JSON data and returns a Python data structure?"
   ]
  },
  {
   "cell_type": "markdown",
   "metadata": {},
   "source": [
    "JSONEncoder class is used for serialization of any Python object while performing encoding. It contains three different methods of encoding which are\n",
    "\n",
    "default(o) – Implemented in the subclass and return serialize object for o object.\n",
    "encode(o) – Same as JSON dumps Python method return JSON string of Python data structure.\n",
    "iterencode(o) – Represent string one by one and encode object o.\n"
   ]
  },
  {
   "cell_type": "markdown",
   "metadata": {},
   "source": [
    "7. What function takes a Python data structure and returns a string of JSON data?"
   ]
  },
  {
   "cell_type": "markdown",
   "metadata": {},
   "source": [
    "JSONEncoder class is used for serialization of any Python object while performing encoding. It contains three different methods of encoding which are\n",
    "\n",
    "default(o) – Implemented in the subclass and return serialize object for o object.\n",
    "encode(o) – Same as JSON dumps Python method return JSON string of Python data structure.\n",
    "iterencode(o) – Represent string one by one and encode object o."
   ]
  }
 ],
 "metadata": {
  "kernelspec": {
   "display_name": "Python 3",
   "language": "python",
   "name": "python3"
  },
  "language_info": {
   "codemirror_mode": {
    "name": "ipython",
    "version": 3
   },
   "file_extension": ".py",
   "mimetype": "text/x-python",
   "name": "python",
   "nbconvert_exporter": "python",
   "pygments_lexer": "ipython3",
   "version": "3.8.5"
  }
 },
 "nbformat": 4,
 "nbformat_minor": 4
}
