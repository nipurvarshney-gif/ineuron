{
 "cells": [
  {
   "cell_type": "markdown",
   "metadata": {},
   "source": [
    "1.Explain the term machine learning, and how does it work? Explain two machine learning applications in the business world. What are some of the ethical concerns that machine learning applications could raise?"
   ]
  },
  {
   "cell_type": "markdown",
   "metadata": {},
   "source": [
    "Machine learning is an application of artificial intelligence (AI) that provides systems the ability to automatically learn and improve from experience without being explicitly programmed. Machine learning focuses on the development of computer programs that can access data and use it to learn for themselves."
   ]
  },
  {
   "cell_type": "markdown",
   "metadata": {},
   "source": [
    "To help you get started, this post introduces six of the most common machine learning applications for business: customer lifetime value modeling, churn modeling, dynamic pricing, customer segmentation, image classification, and recommendation engines"
   ]
  },
  {
   "cell_type": "markdown",
   "metadata": {},
   "source": [
    "Ethical considerations\n",
    "Informed consent.\n",
    "Voluntary participation.\n",
    "Do no harm.\n",
    "Confidentiality.\n",
    "Anonymity.\n",
    "Only assess relevant components."
   ]
  },
  {
   "cell_type": "markdown",
   "metadata": {},
   "source": [
    "2. Describe the process of human learning:\n",
    "           i. Under the supervision of experts\n",
    "\n",
    "           ii. With the assistance of experts in an indirect manner\n",
    "\n",
    "            iii. Self-education\n"
   ]
  },
  {
   "cell_type": "markdown",
   "metadata": {},
   "source": [
    "Human learning is a process of acquiring knowledge. Our behavior, skills, values and ethics are acquired when we process information through our minds and learn. Human learning may occur as part of education, personal development or any other informal/formal training."
   ]
  },
  {
   "cell_type": "markdown",
   "metadata": {},
   "source": [
    "Question each other's views and reach their own consensus. Develop skills in the planning and organization of learning activities. Give and receive feedback to evaluate their own learning. Put into practice the knowledge and skills they have been developing through more traditional teaching methods."
   ]
  },
  {
   "cell_type": "markdown",
   "metadata": {},
   "source": [
    "An expert system generally consists of four components: a knowledge base, the search or inference system, a knowledge acquisition system, and the user interface or communication system."
   ]
  },
  {
   "cell_type": "markdown",
   "metadata": {},
   "source": [
    "3. Provide a few examples of various types of machine learning."
   ]
  },
  {
   "cell_type": "markdown",
   "metadata": {},
   "source": [
    "Supervised Learning\n",
    "\n",
    "When the machine is supervised while it is “learning”, the training type is called supervised learning. But what does supervising a machine really mean? It means that we provide the machine with a ton of information about a case and also provide it with the case outcome. The outcome is called the labelled data while the rest of the information is used as input features. For example, we show the machine 1000 cases when customers defaulted on a loan and 1000 cases where customers did not default. Here default / not-default is the outcome and hence the labelled data while all the other characteristics like age, salary, loan amount, outstanding amount, other loan history etc. are the input features. In this case, the machine is supervised by the labelled data to learn what the relationships and dependencies are between the outcome of default and the borrower information.\n",
    "\n",
    "There are two further categories into which we can divide supervised learning: regressions and classifications, and each has its own set of use cases and merits. Common supervised learning algorithms include: Linear regression; Naïve Bayes, Nearest Neighbours, Decision Trees, Support Vector Machines and Neural Networks."
   ]
  },
  {
   "cell_type": "markdown",
   "metadata": {},
   "source": [
    "Unsupervised Learning\n",
    "\n",
    "As the name suggests, in case of unsupervised learning, there is no help from the user for the computer to learn. In the lack of labelled training sets, the machine identifies patterns in the data that is not so obvious to the human eye. So, unsupervised learning is extremely useful to recognise patterns in data and help us take decisions. For example, if we didn’t know which customers defaulted on loans, and but fed the borrower information to the machine, it would be able to pick out similar patterns among the different borrowers and grouped them in 3-4 buckets or clusters. Unsupervised learning is also often used for anomaly detection, like to uncover fraudulent transactions or payments. The most common use of unsupervised learning is in clustering problems, with the most talked about algorithms being k-means and hierarchical clustering, though other algorithms like Hidden Markov models, Self-Organizing Maps or Gaussian Mixture models are also often used."
   ]
  },
  {
   "cell_type": "markdown",
   "metadata": {},
   "source": [
    "Reinforcement Learning\n",
    "\n",
    "Reinforcement learning is probably the closest to how we as humans learn. In this case, the algorithm or the agent learns continually from its environment by interacting with it. It gets a positive or a negative reward based on its action. Let’s consider the same example of customers with bank loans. A Reinforcement Learning algorithm looks at the information of a customer and classifies him / her as a high-risk customer. When the customer defaults, the algorithm gets a positive reward. If the customer doesn’t default, the agent receives a negative reward. The reward in both the cases helps the agent understand the problem and the environment better, and thus helps to make better decisions on our behalf. Common algorithms include Q-Learning, Temporal Difference and Deep Adversarial Networks.\n",
    "\n",
    "Reinforcement Learning is probably the hardest to execute yet in a business environment but has been commonly used for self-driving cars or the famous Alpha Go chess match trials.\n",
    "\n",
    "Now that you know about the types of machine learning algorithms, we are sure you can appreciate the various groups of problems that can be solved with Machine Learning. So, whenever you want to think of a better way to fasten up a current human driven process, think machine learning, and you may be pleasantly surprised!"
   ]
  },
  {
   "cell_type": "markdown",
   "metadata": {},
   "source": [
    "4. Examine the various forms of machine learning."
   ]
  },
  {
   "cell_type": "markdown",
   "metadata": {},
   "source": [
    "Supervised Learning.\n",
    "Unsupervised Learning.\n",
    "Reinforcement Learning."
   ]
  },
  {
   "cell_type": "markdown",
   "metadata": {},
   "source": [
    "5. Can you explain what a well-posed learning problem is? Explain the main characteristics that must be present to identify a learning problem properly."
   ]
  },
  {
   "cell_type": "markdown",
   "metadata": {},
   "source": [
    "Well-Posed Learning Problems\n",
    "\n",
    "Definition: A computer program is said to learn from experience E with respect to some class of tasks T and performance measure P, if its performance at tasks in T, as measured by P, improves with experience E"
   ]
  },
  {
   "cell_type": "markdown",
   "metadata": {},
   "source": [
    "6. Is machine learning capable of solving all problems? Give a detailed explanation of your answer."
   ]
  },
  {
   "cell_type": "markdown",
   "metadata": {},
   "source": [
    "Machine learning is enabling computers to tackle tasks that have, until now, only been carried out by people. From driving cars to translating speech, machine learning is driving an explosion in the capabilities of artificial intelligence – helping software make sense of the messy and unpredictable real world."
   ]
  },
  {
   "cell_type": "markdown",
   "metadata": {},
   "source": [
    "7. What are the various methods and technologies for solving machine learning problems? Any two of them should be defined in detail."
   ]
  },
  {
   "cell_type": "markdown",
   "metadata": {},
   "source": [
    "Regression.\n",
    "Classification.\n",
    "Clustering.\n",
    "Dimensionality Reduction.\n",
    "Ensemble Methods.\n",
    "Neural Nets and Deep Learning.\n",
    "Transfer Learning.\n",
    "Reinforcement Learning."
   ]
  },
  {
   "cell_type": "markdown",
   "metadata": {},
   "source": [
    "Regression is a statistical method used in finance, investing, and other disciplines that attempts to determine the strength and character of the relationship between one dependent variable (usually denoted by Y) and a series of other variables (known as independent variables)."
   ]
  },
  {
   "cell_type": "markdown",
   "metadata": {},
   "source": [
    "Dimensionality reduction, or dimension reduction, is the transformation of data from a high-dimensional space into a low-dimensional space so that the low-dimensional representation retains some meaningful properties of the original data, ideally close to its intrinsic dimension."
   ]
  },
  {
   "cell_type": "markdown",
   "metadata": {},
   "source": [
    "8. Can you explain the various forms of supervised learning? Explain each one with an example application."
   ]
  },
  {
   "cell_type": "markdown",
   "metadata": {},
   "source": [
    "There are two types of Supervised Learning techniques: Regression and Classification. Classification separates the data, Regression fits the data."
   ]
  },
  {
   "cell_type": "markdown",
   "metadata": {},
   "source": [
    "Regression\n",
    "Regression is a technique that aims to reproduce the output value. We can use it, for example, to predict the price of some product, like a price of a house in a specific city or the value of a stock. There is a huge number of things we can predict if we wish."
   ]
  },
  {
   "cell_type": "markdown",
   "metadata": {},
   "source": [
    "Classification\n",
    "Classification is a technique that aims to reproduce class assignments. It can predict the response value and the data is separated into “classes”. Examples? Recognition of a type of car in a photo, is this mail spam or a message from a friend, or what the weather will be today."
   ]
  },
  {
   "cell_type": "markdown",
   "metadata": {},
   "source": [
    "9. What is the difference between supervised and unsupervised learning? With a sample application in each region, explain the differences."
   ]
  },
  {
   "cell_type": "markdown",
   "metadata": {},
   "source": [
    "Supervised learning algorithms are trained using labeled data. Unsupervised learning algorithms are trained using unlabeled data. Supervised learning model takes direct feedback to check if it is predicting correct output or not. Unsupervised learning model does not take any feedback."
   ]
  },
  {
   "cell_type": "markdown",
   "metadata": {},
   "source": [
    "Supervised learning\n",
    "To put it simply, we train an algorithm and at the end pick the model that best predicts some well-defined output based on the input data.\n",
    "\n",
    "\n",
    "Supervised techniques adapt the model to reproduce outputs known from a training set (e.g. recognize car types on photos). In the beginning, the system receives input data as well as output data. Its task is to create appropriate rules that map the input to the output. The training process should continue until the level of performance is high enough. After training, the system should be able to assign an output objects which it has not seen during the training phase. In most cases, this process is really fast and accurate.\n",
    "\n",
    "There are two types of Supervised Learning techniques: Regression and Classification. Classification separates the data, Regression fits the data."
   ]
  },
  {
   "cell_type": "markdown",
   "metadata": {},
   "source": [
    "Supervised Learning\n",
    "Supervised learning algorithms are trained using labeled data.\n",
    "Supervised learning model takes direct feedback to check if it is predicting correct output or not.\n",
    "Supervised learning model predicts the output.\n",
    "In supervised learning, input data is provided to the model along with the output.\n",
    "The goal of supervised learning is to train the model so that it can predict the output when it is given new data.\n",
    "Supervised learning needs supervision to train the model.\n",
    "Supervised learning can be categorized in Classification and Regression problems.\n",
    "Supervised learning can be used for those cases where we know the input as well as corresponding outputs.\n",
    "Supervised learning model produces an accurate result.\n",
    "Supervised learning is not close to true Artificial intelligence as in this, we first train the model for each data, and then only it can predict the correct output.\n",
    "It includes various algorithms such as Linear Regression, Logistic Regression, Support Vector Machine, Multi-class Classification, Decision tree, Bayesian Logic, etc.\n"
   ]
  },
  {
   "cell_type": "markdown",
   "metadata": {},
   "source": [
    "Unsupervised Learning\n",
    "Unsupervised learning algorithms are trained using unlabeled data.\n",
    "Unsupervised learning model does not take any feedback.\n",
    "Unsupervised learning model finds the hidden patterns in data.\n",
    "In unsupervised learning, only input data is provided to the model.\n",
    "The goal of unsupervised learning is to find the hidden patterns and useful insights from the unknown dataset.\n",
    "Unsupervised learning does not need any supervision to train the model.\n",
    "Unsupervised Learning can be classified in Clustering and Associations problems.\n",
    "Unsupervised learning can be used for those cases where we have only input data and no corresponding output data.\n",
    "Unsupervised learning model may give less accurate result as compared to supervised learning.\n",
    "Unsupervised learning is more close to the true Artificial Intelligence as it learns similarly as a child learns daily routine things by his experiences.\n",
    "It includes various algorithms such as Clustering, KNN, and Apriori algorithm.\n"
   ]
  },
  {
   "cell_type": "markdown",
   "metadata": {},
   "source": [
    "10. Describe the machine learning process in depth.\n",
    "\n",
    "a. Make brief notes on any two of the following:\n",
    "\n",
    "MATLAB is one of the most widely used programming languages.\n",
    "\n",
    "        ii. Deep learning applications in healthcare\n",
    "\n",
    "        iii. Study of the market basket\n",
    "\n",
    "         iv. Linear regression (simple)\n"
   ]
  },
  {
   "cell_type": "markdown",
   "metadata": {},
   "source": [
    "11. Make a comparison between:-\n",
    "\n",
    "         1. Generalization and abstraction\n",
    "\n",
    "          2. Learning that is guided and unsupervised\n",
    "\n",
    "          3. Regression and classification\n"
   ]
  },
  {
   "cell_type": "markdown",
   "metadata": {},
   "source": [
    "Regression Regression is a technique that aims to reproduce the output value. We can use it, for example, to predict the price of some product, like a price of a house in a specific city or the value of a stock. There is a huge number of things we can predict if we wish.\n",
    "\n",
    "Classification Classification is a technique that aims to reproduce class assignments. It can predict the response value and the data is separated into “classes”. Examples? Recognition of a type of car in a photo, is this mail spam or a message from a friend, or what the weather will be today."
   ]
  },
  {
   "cell_type": "markdown",
   "metadata": {},
   "source": [
    "While abstraction reduces complexity by hiding irrelevant detail, generalization reduces complexity by replacing multiple entities which perform similar functions with a single construct."
   ]
  },
  {
   "cell_type": "code",
   "execution_count": null,
   "metadata": {},
   "outputs": [],
   "source": []
  }
 ],
 "metadata": {
  "kernelspec": {
   "display_name": "Python 3",
   "language": "python",
   "name": "python3"
  },
  "language_info": {
   "codemirror_mode": {
    "name": "ipython",
    "version": 3
   },
   "file_extension": ".py",
   "mimetype": "text/x-python",
   "name": "python",
   "nbconvert_exporter": "python",
   "pygments_lexer": "ipython3",
   "version": "3.8.5"
  }
 },
 "nbformat": 4,
 "nbformat_minor": 4
}
