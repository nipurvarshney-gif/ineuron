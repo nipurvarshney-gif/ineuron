{
 "cells": [
  {
   "cell_type": "markdown",
   "metadata": {},
   "source": [
    "1.\tWrite a Python Program to find sum of array?"
   ]
  },
  {
   "cell_type": "markdown",
   "metadata": {},
   "source": [
    "arr = [1,2,3,4,5]\n",
    "ans = sum(arr,n)\n",
    "print ('Sum of the array is ',ans)"
   ]
  },
  {
   "cell_type": "code",
   "execution_count": 4,
   "metadata": {},
   "outputs": [
    {
     "name": "stdout",
     "output_type": "stream",
     "text": [
      "Sum of the array is  15\n"
     ]
    }
   ],
   "source": [
    "arr = [1,2,3,4,5]\n",
    "ans = sum(arr,n)\n",
    "print ('Sum of the array is ',ans)"
   ]
  },
  {
   "cell_type": "markdown",
   "metadata": {},
   "source": [
    "2.\tWrite a Python Program to find largest element in an array?"
   ]
  },
  {
   "cell_type": "code",
   "execution_count": 10,
   "metadata": {},
   "outputs": [
    {
     "name": "stdout",
     "output_type": "stream",
     "text": [
      "Largest element present in given array: 560\n"
     ]
    }
   ],
   "source": [
    "arr = [2, 114, 77, 5, 560];\n",
    "max = arr[0];\n",
    "for i in range(0, len(arr)):    \n",
    "    if(arr[i] > max):    \n",
    "        max = arr[i];    \n",
    "           \n",
    "print(\"Largest element present in given array: \" + str(max)); "
   ]
  },
  {
   "cell_type": "markdown",
   "metadata": {},
   "source": [
    "3.\tWrite a Python Program for array rotation?"
   ]
  },
  {
   "cell_type": "code",
   "execution_count": 13,
   "metadata": {},
   "outputs": [
    {
     "name": "stdout",
     "output_type": "stream",
     "text": [
      "Original array: \n",
      "1\n",
      "2\n",
      "3\n",
      "4\n",
      "5\n",
      "7\n",
      "\n",
      "Array after left rotation: \n",
      "3\n",
      "4\n",
      "5\n",
      "7\n",
      "1\n",
      "2\n"
     ]
    }
   ],
   "source": [
    "    \n",
    "arr = [1, 2, 3, 4, 5, 7];     \n",
    "  \n",
    "n = 2;    \n",
    "print(\"Original array: \");    \n",
    "for i in range(0, len(arr)):    \n",
    "    print(arr[i]),     \n",
    "for i in range(0, n):    \n",
    " \n",
    "    first = arr[0];    \n",
    "        \n",
    "    for j in range(0, len(arr)-1):    \n",
    "     \n",
    "        arr[j] = arr[j+1];    \n",
    "            \n",
    " \n",
    "    arr[len(arr)-1] = first;    \n",
    "     \n",
    "print();    \n",
    "print(\"Array after left rotation: \");    \n",
    "for i in range(0, len(arr)):    \n",
    "    print(arr[i]),  "
   ]
  },
  {
   "cell_type": "markdown",
   "metadata": {},
   "source": [
    "4.\tWrite a Python Program to Split the array and add the first part to the end?"
   ]
  },
  {
   "cell_type": "code",
   "execution_count": 19,
   "metadata": {},
   "outputs": [],
   "source": [
    "def leftRotate(arr, d, n):\n",
    "    for i in range(d):\n",
    "        leftRotatebyOne(arr, n)\n",
    "\n",
    "def leftRotatebyOne(arr, n):\n",
    "    temp = arr[0]\n",
    "    for i in range(n-1):\n",
    "        arr[i] = arr[i + 1]\n",
    "        arr[n-1] = temp\n",
    "\n",
    "def printArray(arr, size):\n",
    "    for i in range(size):\n",
    "        print (\"% d\"% arr[i], end =\" \")\n",
    "\n",
    "\n",
    "\n"
   ]
  },
  {
   "cell_type": "code",
   "execution_count": 20,
   "metadata": {},
   "outputs": [
    {
     "name": "stdout",
     "output_type": "stream",
     "text": [
      " 3  4  5  6  1  2  2 "
     ]
    }
   ],
   "source": [
    "arr = [1, 2, 3, 4, 5, 6, 7]\n",
    "leftRotate(arr, 2, 7)\n",
    "printArray(arr, 7)"
   ]
  },
  {
   "cell_type": "markdown",
   "metadata": {},
   "source": [
    "5.\tWrite a Python Program to check if given array is Monotonic?"
   ]
  },
  {
   "cell_type": "code",
   "execution_count": 21,
   "metadata": {},
   "outputs": [],
   "source": [
    "def isMonotonic(A):\n",
    "  \n",
    "    return (all(A[i] <= A[i + 1] for i in range(len(A) - 1)) or\n",
    "            all(A[i] >= A[i + 1] for i in range(len(A) - 1)))"
   ]
  },
  {
   "cell_type": "code",
   "execution_count": 23,
   "metadata": {},
   "outputs": [
    {
     "data": {
      "text/plain": [
       "True"
      ]
     },
     "execution_count": 23,
     "metadata": {},
     "output_type": "execute_result"
    }
   ],
   "source": [
    "isMonotonic([6, 5, 4, 4])"
   ]
  },
  {
   "cell_type": "code",
   "execution_count": null,
   "metadata": {},
   "outputs": [],
   "source": []
  }
 ],
 "metadata": {
  "kernelspec": {
   "display_name": "Python 3",
   "language": "python",
   "name": "python3"
  },
  "language_info": {
   "codemirror_mode": {
    "name": "ipython",
    "version": 3
   },
   "file_extension": ".py",
   "mimetype": "text/x-python",
   "name": "python",
   "nbconvert_exporter": "python",
   "pygments_lexer": "ipython3",
   "version": "3.8.5"
  }
 },
 "nbformat": 4,
 "nbformat_minor": 4
}
